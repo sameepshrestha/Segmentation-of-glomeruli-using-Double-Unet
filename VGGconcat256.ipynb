{
  "nbformat": 4,
  "nbformat_minor": 0,
  "metadata": {
    "colab": {
      "name": "VGGconcat256.ipynb",
      "provenance": [],
      "collapsed_sections": [],
      "toc_visible": true
    },
    "kernelspec": {
      "display_name": "Python 3",
      "name": "python3"
    },
    "accelerator": "GPU"
  },
  "cells": [
    {
      "cell_type": "code",
      "metadata": {
        "id": "97VX0vRh1zym"
      },
      "source": [
        "#!unzip /content/drive/MyDrive/HUBMAP/archive.zip -d /content/drive/MyDrive/HUBMAP"
      ],
      "execution_count": null,
      "outputs": []
    },
    {
      "cell_type": "code",
      "metadata": {
        "id": "ULLVYzlKus93"
      },
      "source": [
        "import numpy as np # linear algebra\n",
        "import pandas as pd # data processing, CSV file I/O (e.g. pd.read_csv)\n",
        "import matplotlib.pyplot as plt \n",
        "import tifffile \n",
        "import os\n",
        "import cv2 \n",
        "import tensorflow as tf \n",
        "from tqdm import tqdm\n",
        "import albumentations as A\n",
        "import zipfile\n",
        "import tensorflow as tf\n",
        "from sklearn.model_selection import train_test_split\n",
        "from keras.models import Model\n",
        "from keras.layers import Input\n",
        "from keras.layers import Activation\n",
        "from keras.layers import BatchNormalization\n",
        "from keras.layers import Dense\n",
        "#from keras.layers import Flatten\n",
        "from keras.layers import AveragePooling2D\n",
        "from keras.layers.convolutional import Conv2D, MaxPooling2D, UpSampling2D, AveragePooling2D, Conv2DTranspose\n",
        "from keras.layers.merge import concatenate #Concatenate (capital C) not working \n",
        "#from keras.utils.vis_utils import plot_model\n",
        "from keras.layers import Dropout\n",
        "\n",
        "from keras.callbacks import EarlyStopping\n",
        "from keras.callbacks import ModelCheckpoint\n",
        "from keras.callbacks import CSVLogger , TensorBoard\n",
        "from tensorflow.keras.metrics import Recall, Precision\n",
        "\n",
        "from keras.layers import GlobalAveragePooling2D \n",
        "from keras.layers import multiply, Reshape\n",
        "from tensorflow.keras.optimizers import Nadam\n",
        "from keras.layers import GlobalAveragePooling2D \n",
        "from keras.layers import multiply, Reshape\n",
        "from tensorflow.keras.optimizers import Nadam,Adam\n",
        "from tensorflow.keras.applications import VGG19\n",
        "%matplotlib inline "
      ],
      "execution_count": null,
      "outputs": []
    },
    {
      "cell_type": "code",
      "metadata": {
        "id": "OlB4_UV-XuhS",
        "colab": {
          "base_uri": "https://localhost:8080/"
        },
        "outputId": "4e079496-63a1-4cad-c815-611a7a4275f4"
      },
      "source": [
        "from google.colab import drive\n",
        "drive.mount('/content/drive')"
      ],
      "execution_count": null,
      "outputs": [
        {
          "output_type": "stream",
          "text": [
            "Drive already mounted at /content/drive; to attempt to forcibly remount, call drive.mount(\"/content/drive\", force_remount=True).\n"
          ],
          "name": "stdout"
        }
      ]
    },
    {
      "cell_type": "code",
      "metadata": {
        "id": "LgmWunz6wh42"
      },
      "source": [
        "def squeeze_excite_block(inputs, ratio=8):\n",
        "    init = inputs\n",
        "    channel_axis = -1\n",
        "    filters = init.shape[channel_axis]\n",
        "    se_shape = (1, 1, filters)\n",
        "\n",
        "    se = GlobalAveragePooling2D()(init)\n",
        "    se = Reshape(se_shape)(se)\n",
        "    se = Dense(filters // ratio, activation='relu', kernel_initializer='he_normal', use_bias=False)(se)\n",
        "    se = Dense(filters, activation='sigmoid', kernel_initializer='he_normal', use_bias=False)(se)\n",
        "\n",
        "    x = multiply([init, se])\n",
        "    return x\n",
        "\n",
        "def conv_block(inputs, filters):\n",
        "    x = inputs\n",
        "\n",
        "    x = Conv2D(filters, (3, 3), padding=\"same\")(x)\n",
        "    x = BatchNormalization()(x)\n",
        "    x = Activation('relu')(x)\n",
        "\n",
        "    x = Conv2D(filters, (3, 3), padding=\"same\")(x)\n",
        "    x = BatchNormalization()(x)\n",
        "    x = Activation('relu')(x)\n",
        "\n",
        "    x = squeeze_excite_block(x)\n",
        "\n",
        "    return x\n",
        "\n",
        "def encoder1(inputs):\n",
        "    skip_connections = []\n",
        "\n",
        "    model = VGG19(include_top=False, weights='imagenet', input_tensor=inputs)\n",
        "    names = [\"block1_conv2\", \"block2_conv2\", \"block3_conv4\", \"block4_conv4\"]\n",
        "    for name in names:\n",
        "        skip_connections.append(model.get_layer(name).output)\n",
        "\n",
        "    output = model.get_layer(\"block5_conv4\").output\n",
        "    return output, skip_connections\n",
        "\n",
        "def decoder1(inputs, skip_connections):\n",
        "    num_filters = [256, 128, 64, 32]\n",
        "    skip_connections.reverse()\n",
        "    x = inputs\n",
        "\n",
        "    for i, f in enumerate(num_filters):\n",
        "        x = UpSampling2D((2, 2), interpolation='bilinear')(x)\n",
        "        x = concatenate([x, skip_connections[i]])\n",
        "        x = conv_block(x, f)\n",
        "\n",
        "    return x\n",
        "def encoder2(inputs):\n",
        "    num_filters = [32, 64, 128, 256]\n",
        "    skip_connections = []\n",
        "    x = inputs\n",
        "\n",
        "    for i, f in enumerate(num_filters):\n",
        "        x = conv_block(x, f)\n",
        "        skip_connections.append(x)\n",
        "        x = MaxPooling2D((2, 2))(x)\n",
        "\n",
        "    return x, skip_connections\n",
        "\n",
        "def decoder2(inputs, skip_1, skip_2):\n",
        "    num_filters = [256, 128, 64, 32]\n",
        "    skip_2.reverse()\n",
        "    x = inputs\n",
        "\n",
        "    for i, f in enumerate(num_filters):\n",
        "        x = UpSampling2D((2, 2), interpolation='bilinear')(x)\n",
        "        x = concatenate([x, skip_1[i], skip_2[i]])\n",
        "        x = conv_block(x, f)\n",
        "\n",
        "    return x\n",
        "\n",
        "def output_block(inputs):\n",
        "    x = Conv2D(1, (1, 1), padding=\"same\")(inputs)\n",
        "    x = Activation('sigmoid')(x)\n",
        "    return x\n",
        "\n",
        "def Upsample(tensor, size):\n",
        "    \"\"\"Bilinear upsampling\"\"\"\n",
        "    def _upsample(x, size):\n",
        "        return tf.image.resize(images=x, size=size)\n",
        "    return Lambda(lambda x: _upsample(x, size), output_shape=size)(tensor)\n",
        "def ASPP(x, filter):\n",
        "    shape = x.shape\n",
        "\n",
        "    y1 = AveragePooling2D(pool_size=(shape[1], shape[2]))(x)\n",
        "    y1 = Conv2D(filter, 1, padding=\"same\")(y1)\n",
        "    y1 = BatchNormalization()(y1)\n",
        "    y1 = Activation(\"relu\")(y1)\n",
        "    y1 = UpSampling2D((shape[1], shape[2]), interpolation='bilinear')(y1)\n",
        "\n",
        "    y2 = Conv2D(filter, 1, dilation_rate=1, padding=\"same\", use_bias=False)(x)\n",
        "    y2 = BatchNormalization()(y2)\n",
        "    y2 = Activation(\"relu\")(y2)\n",
        "\n",
        "    y3 = Conv2D(filter, 3, dilation_rate=6, padding=\"same\", use_bias=False)(x)\n",
        "    y3 = BatchNormalization()(y3)\n",
        "    y3 = Activation(\"relu\")(y3)\n",
        "\n",
        "    y4 = Conv2D(filter, 3, dilation_rate=12, padding=\"same\", use_bias=False)(x)\n",
        "    y4 = BatchNormalization()(y4)\n",
        "    y4 = Activation(\"relu\")(y4)\n",
        "\n",
        "    y5 = Conv2D(filter, 3, dilation_rate=18, padding=\"same\", use_bias=False)(x)\n",
        "    y5 = BatchNormalization()(y5)\n",
        "    y5 = Activation(\"relu\")(y5)\n",
        "\n",
        "    y = concatenate([y1, y2, y3, y4, y5])\n",
        "\n",
        "    y = Conv2D(filter, 1, dilation_rate=1, padding=\"same\", use_bias=False)(y)\n",
        "    y = BatchNormalization()(y)\n",
        "    y = Activation(\"relu\")(y)\n",
        "\n",
        "    return y\n",
        "def output_block(inputs):\n",
        "    x = Conv2D(1, (1, 1), padding=\"same\")(inputs)\n",
        "    x = Activation('sigmoid')(x)\n",
        "    return x\n",
        "def build_model(shape):\n",
        "    inputs = Input(shape)\n",
        "    x, skip_1 = encoder1(inputs)\n",
        "    x = ASPP(x, 64)\n",
        "    x = decoder1(x, skip_1)\n",
        "    outputs1 = output_block(x)\n",
        "\n",
        "    x = inputs * outputs1\n",
        "\n",
        "    x, skip_2 = encoder2(x)\n",
        "    x = ASPP(x, 64)\n",
        "    x = decoder2(x, skip_1, skip_2)\n",
        "    outputs2 = output_block(x)\n",
        "    outputs = concatenate([outputs1, outputs2])\n",
        "    #output=Conv2D(1,(2,2),activation=\"sigmoid\",padding=\"same\")(outputs)\n",
        "    model = Model(inputs, outputs)\n",
        "    return model\n",
        "shape=(256,256,3)\n",
        "model=build_model(shape)"
      ],
      "execution_count": null,
      "outputs": []
    },
    {
      "cell_type": "code",
      "metadata": {
        "id": "TmKgkOcKw7x4"
      },
      "source": [
        "model.summary()"
      ],
      "execution_count": null,
      "outputs": []
    },
    {
      "cell_type": "code",
      "metadata": {
        "colab": {
          "base_uri": "https://localhost:8080/"
        },
        "id": "eEjIAtrjvK2Y",
        "outputId": "8a117bf9-566f-4964-ce27-9c73004d0594"
      },
      "source": [
        "#elastic deformation with rotation and small shift for making the model robustness\n",
        "def Augmentation(images,mask):\n",
        "    def _transform(image,mask):\n",
        "        transform=A.Compose([\n",
        "         A.HorizontalFlip(p=0.25),\n",
        "         A.VerticalFlip(p=0.25),\n",
        "         A.RandomRotate90(p=.25),\n",
        "         A.Transpose(p=0.25),\n",
        "         A.RandomBrightnessContrast(p=0.5),\n",
        "         A.ElasticTransform(p=.2, alpha=120, sigma=120 * 0.05, alpha_affine=120 * 0.03),\n",
        "    ])\n",
        "        aug=transform(image=image,mask=mask)\n",
        "        img=aug['image']\n",
        "        img=tf.cast(img,tf.float64)\n",
        "        msk=aug['mask']\n",
        "        msk=tf.cast(msk,tf.float64)\n",
        "        return img,msk\n",
        "    image,mask=tf.numpy_function(_transform,[images,mask],[tf.float64,tf.float64])\n",
        "    image.set_shape([IMAGE_SIZE, IMAGE_SIZE, 3])\n",
        "    mask.set_shape([IMAGE_SIZE, IMAGE_SIZE, 2])\n",
        "    \n",
        "    return image,mask\n",
        "from glob import glob\n",
        "IMAGE_SIZE=256\n",
        "AUTO = tf.data.experimental.AUTOTUNE\n",
        "def load_data(path, split=0.2):\n",
        "    images = sorted(glob(os.path.join(path, \"train/*\")))\n",
        "    print(len(images))\n",
        "    masks = sorted(glob(os.path.join(path, \"masks/*\")))\n",
        "    print(len(masks))\n",
        "    total_size = len(images)\n",
        "    valid_size = int(split * total_size)\n",
        "\n",
        "    train_x, valid_x = train_test_split(images, test_size=valid_size, random_state=42)\n",
        "    train_y, valid_y = train_test_split(masks, test_size=valid_size, random_state=42)\n",
        "\n",
        "    return (train_x, train_y), (valid_x, valid_y)\n",
        "(train_x,train_y),(valid_x,valid_y)=load_data('/content/drive/MyDrive/HUBMAP')\n",
        "train_size=len(train_x)\n",
        "valid_size=len(valid_x)\n",
        "def read_image(path):\n",
        "    path = path.decode()\n",
        "    x = cv2.imread(path, cv2.IMREAD_COLOR)\n",
        "    x = cv2.resize(x,(256,256),interpolation=cv2.INTER_AREA)\n",
        "    x = x/255.0\n",
        "    x=tf.cast(x,dtype=tf.float64)\n",
        "    return x\n",
        "def read_mask(path):\n",
        "    path = path.decode()\n",
        "    x = cv2.imread(path, cv2.IMREAD_GRAYSCALE)\n",
        "    x = cv2.resize(x,(256,256),interpolation=cv2.INTER_NEAREST)\n",
        "    x = np.expand_dims(x, axis=-1)\n",
        "    x=np.concatenate([x,x],axis=-1)\n",
        "    x=tf.cast(x,dtype=tf.float64)\n",
        "    return x\n",
        "def parser(x,y):\n",
        "    def _parse(x,y):\n",
        "        x=read_image(x)\n",
        "        y=read_mask(y)\n",
        "        return x,y\n",
        "    x,y = tf.numpy_function(_parse, [x,y], [tf.float64,tf.float64])\n",
        "    x.set_shape([IMAGE_SIZE, IMAGE_SIZE, 3])\n",
        "    y.set_shape([IMAGE_SIZE, IMAGE_SIZE, 2])\n",
        "    return x,y\n",
        "    \n",
        "def tf_dataset(x, y, batch):\n",
        "    dataset = tf.data.Dataset.from_tensor_slices((x, y))\n",
        "    dataset = dataset.map(parser)\n",
        "    dataset = dataset.map(Augmentation)\n",
        "    dataset = dataset.repeat()\n",
        "    dataset = dataset.batch(batch)\n",
        "    dataset = dataset.prefetch(AUTO) \n",
        "    return dataset\n",
        "train_dataset=tf_dataset(train_x,train_y,batch=8)\n",
        "valid_dataset=tf_dataset(valid_x,valid_y,batch=8)"
      ],
      "execution_count": null,
      "outputs": [
        {
          "output_type": "stream",
          "text": [
            "3849\n",
            "3849\n"
          ],
          "name": "stdout"
        }
      ]
    },
    {
      "cell_type": "code",
      "metadata": {
        "colab": {
          "base_uri": "https://localhost:8080/"
        },
        "id": "aChgnXblvVXq",
        "outputId": "146d2f86-707a-4d6a-e05a-c4ed2358edf1"
      },
      "source": [
        "print(train_dataset)\n",
        "print(valid_dataset)"
      ],
      "execution_count": null,
      "outputs": [
        {
          "output_type": "stream",
          "text": [
            "<PrefetchDataset shapes: ((None, 256, 256, 3), (None, 256, 256, 2)), types: (tf.float64, tf.float64)>\n",
            "<PrefetchDataset shapes: ((None, 256, 256, 3), (None, 256, 256, 2)), types: (tf.float64, tf.float64)>\n"
          ],
          "name": "stdout"
        }
      ]
    },
    {
      "cell_type": "markdown",
      "metadata": {
        "id": "COusItRPjdDk"
      },
      "source": [
        "# loss functions \n"
      ]
    },
    {
      "cell_type": "code",
      "metadata": {
        "id": "x830zCityEpv"
      },
      "source": [
        "from tensorflow.keras.losses import binary_crossentropy\n",
        "smooth = 1e-10\n",
        "def dice_coef(y_true, y_pred):\n",
        "    y_true = tf.keras.layers.Flatten()(y_true)\n",
        "    y_pred = tf.keras.layers.Flatten()(y_pred)\n",
        "    intersection = tf.reduce_sum(y_true * y_pred)\n",
        "    return (2. * intersection + smooth) / (tf.reduce_sum(y_true) + tf.reduce_sum(y_pred) + smooth)\n",
        "\n",
        "def dice_loss(y_true, y_pred):\n",
        "    return 1.0 - dice_coef(y_true, y_pred)\n",
        "\n",
        "def binary_loss(y_true, y_pred):\n",
        "    return binary_crossentropy(y_true, y_pred)\n",
        "\n",
        "def binary_dice_loss(y_true, y_pred):\n",
        "    d_loss= dice_loss(y_true, y_pred)\n",
        "    b_loss= binary_loss(y_true, y_pred)\n",
        "    loss=(d_loss+b_loss)\n",
        "    return loss\n",
        "\n",
        "def Tversky_Index(y_true,y_pred,smooth):\n",
        "    y_true= tf.keras.layers.Flatten()(y_true)\n",
        "    y_pred= tf.keras.layers.Flatten()(y_pred)\n",
        "    true_positive= tf.reduce_sum(y_true*y_pred)\n",
        "    false_negative=tf.reduce_sum(y_true*(1-y_pred))\n",
        "    false_positive=tf.reduce_sum((1-y_true)*y_pred)\n",
        "    alpha=.7\n",
        "    TI=(true_positive+smooth)/(true_positive+alpha*false_negative+(1-alpha)*false_positive+smooth)\n",
        "    return TI\n",
        "\n",
        "def Tversky_loss(y_true,y_pred):\n",
        "    return 1-Tversky_Index(y_true,y_pred,smooth=1)\n",
        "def focal_Tversky_loss(y_true,y_pred):\n",
        "    pt_1 = Tversky_Index(y_true, y_pred,smooth=1)\n",
        "    gamma = 0.75\n",
        "    return tf.math.pow((1-pt_1), gamma)\n",
        "\n",
        "\n"
      ],
      "execution_count": null,
      "outputs": []
    },
    {
      "cell_type": "code",
      "metadata": {
        "id": "E6xTjg1LWd64"
      },
      "source": [
        ""
      ],
      "execution_count": null,
      "outputs": []
    },
    {
      "cell_type": "markdown",
      "metadata": {
        "id": "c92zCOSs0ttg"
      },
      "source": [
        "#model"
      ]
    },
    {
      "cell_type": "code",
      "metadata": {
        "id": "aGpPOrZgY2yS"
      },
      "source": [
        "\n",
        "\n",
        "from keras.layers import GlobalAveragePooling2D \n",
        "from keras.layers import multiply, Reshape\n",
        "from tensorflow.keras.optimizers import Nadam"
      ],
      "execution_count": null,
      "outputs": []
    },
    {
      "cell_type": "code",
      "metadata": {
        "id": "Ch1o1mXLaiyz"
      },
      "source": [
        "\n",
        "import tensorflow as tf\n",
        "model=tf.keras.models.load_model('/content/drive/MyDrive/HUBMAP/modelsVGG256.hd5',custom_objects={\n",
        "        'dice_loss': dice_loss ,'dice_coef': dice_coef})\n"
      ],
      "execution_count": null,
      "outputs": []
    },
    {
      "cell_type": "code",
      "metadata": {
        "id": "iQtlLcJqXTBf"
      },
      "source": [
        "model.compile(loss=dice_loss,optimizer=Adam(lr=.00001),metrics=[dice_coef,Recall(),Precision()])\n"
      ],
      "execution_count": null,
      "outputs": []
    },
    {
      "cell_type": "code",
      "metadata": {
        "id": "XyY1nnS2aEmt"
      },
      "source": [
        "filepath= '/content/drive/MyDrive/HUBMAP/modelsVGG256.hd5'\n",
        "callbacks = [\n",
        "    EarlyStopping(monitor='val_loss', patience=7),\n",
        "    ModelCheckpoint(filepath, monitor='val_loss',verbose=1,mode='min',save_best_only=True),\n",
        "    CSVLogger(\"/content/drive/MyDrive/data2.csv\"),\n",
        "    TensorBoard(),\n",
        "]"
      ],
      "execution_count": null,
      "outputs": []
    },
    {
      "cell_type": "code",
      "metadata": {
        "colab": {
          "base_uri": "https://localhost:8080/"
        },
        "id": "5RpMdCHzaYcX",
        "outputId": "d2e23c41-1151-4436-f262-7ac189b50be7"
      },
      "source": [
        "t_steps=train_size//8\n",
        "v_steps=valid_size//8\n",
        "history = model.fit(train_dataset, \n",
        "                        epochs = 20,\n",
        "                        steps_per_epoch = t_steps,\n",
        "                        validation_data = valid_dataset,\n",
        "                    \n",
        "                        validation_steps = v_steps,\n",
        "                    callbacks=callbacks\n",
        "                 )"
      ],
      "execution_count": null,
      "outputs": [
        {
          "output_type": "stream",
          "text": [
            "Epoch 1/20\n",
            "385/385 [==============================] - 420s 1s/step - loss: 0.1830 - dice_coef: 0.8170 - recall_1: 0.8902 - precision_1: 0.8744 - val_loss: 0.1885 - val_dice_coef: 0.8115 - val_recall_1: 0.8622 - val_precision_1: 0.9006\n",
            "\n",
            "Epoch 00001: val_loss improved from inf to 0.18854, saving model to /content/drive/MyDrive/HUBMAP/modelsVGG256.hd5\n",
            "INFO:tensorflow:Assets written to: /content/drive/MyDrive/HUBMAP/modelsVGG256.hd5/assets\n",
            "Epoch 2/20\n",
            "385/385 [==============================] - 405s 1s/step - loss: 0.1790 - dice_coef: 0.8210 - recall_1: 0.8959 - precision_1: 0.8841 - val_loss: 0.1954 - val_dice_coef: 0.8046 - val_recall_1: 0.8665 - val_precision_1: 0.8857\n",
            "\n",
            "Epoch 00002: val_loss did not improve from 0.18854\n",
            "Epoch 3/20\n",
            "385/385 [==============================] - 403s 1s/step - loss: 0.1804 - dice_coef: 0.8196 - recall_1: 0.8950 - precision_1: 0.8736 - val_loss: 0.2048 - val_dice_coef: 0.7952 - val_recall_1: 0.8611 - val_precision_1: 0.8861\n",
            "\n",
            "Epoch 00003: val_loss did not improve from 0.18854\n",
            "Epoch 4/20\n",
            "252/385 [==================>...........] - ETA: 2:02 - loss: 0.1845 - dice_coef: 0.8155 - recall_1: 0.8956 - precision_1: 0.8882"
          ],
          "name": "stdout"
        }
      ]
    },
    {
      "cell_type": "code",
      "metadata": {
        "colab": {
          "base_uri": "https://localhost:8080/",
          "height": 638
        },
        "id": "RV2ujth-moxe",
        "outputId": "f58c7fe1-4a34-4ed4-a05d-71c6ac8609ef"
      },
      "source": [
        "plt.subplots(figsize=(18,18))\n",
        "plt.subplot(211)\n",
        "plt.plot(history.history['dice_coef'])\n",
        "plt.plot(history.history['loss'])\n",
        "plt.show()\n",
        "plt.subplot(212)\n",
        "plt.plot(history.history['val_dice_coef'])\n",
        "plt.plot(history.history['val_loss'])"
      ],
      "execution_count": null,
      "outputs": [
        {
          "output_type": "display_data",
          "data": {
            "image/png": "[encoded data removed]",
            "text/plain": [
              "<Figure size 1296x1296 with 1 Axes>"
            ]
          },
          "metadata": {
            "tags": [],
            "needs_background": "light"
          }
        },
        {
          "output_type": "execute_result",
          "data": {
            "text/plain": [
              "[<matplotlib.lines.Line2D at 0x7f783c793fd0>]"
            ]
          },
          "metadata": {
            "tags": []
          },
          "execution_count": 15
        },
        {
          "output_type": "display_data",
          "data": {
            "image/png": "[encoded data removed]",
            "text/plain": [
              "<Figure size 432x288 with 1 Axes>"
            ]
          },
          "metadata": {
            "tags": [],
            "needs_background": "light"
          }
        }
      ]
    },
    {
      "cell_type": "code",
      "metadata": {
        "id": "cwBAdiFIinhw"
      },
      "source": [
        "path=('/content/drive/MyDrive/HUBMAP/train/0486052bb_150.png')\n",
        "x = cv2.imread(path, cv2.IMREAD_COLOR)\n",
        "x = cv2.resize(x,(256,256),interpolation=cv2.INTER_AREA)\n",
        "x = x/255.0\n",
        "x=np.expand_dims(x,0)\n",
        "mask=np.squeeze(model.predict(x))\n",
        "mask=mask[:,:,1]\n",
        "mask=cv2.resize(mask,(1024,1024))\n",
        "mask=(mask>0.5).astype(np.uint8)\n",
        "mask2=cv2.imread('/content/drive/MyDrive/HUBMAP/masks/0486052bb_150.png',cv2.IMREAD_GRAYSCALE)"
      ],
      "execution_count": null,
      "outputs": []
    },
    {
      "cell_type": "code",
      "metadata": {
        "colab": {
          "base_uri": "https://localhost:8080/"
        },
        "id": "BTTGjLJftwhN",
        "outputId": "89aafdfa-38b8-4138-8e79-3c59c86c041a"
      },
      "source": [
        "np.sum(mask)/np.sum(mask2)"
      ],
      "execution_count": null,
      "outputs": [
        {
          "output_type": "execute_result",
          "data": {
            "text/plain": [
              "1.010618023414103"
            ]
          },
          "metadata": {
            "tags": []
          },
          "execution_count": 35
        }
      ]
    },
    {
      "cell_type": "code",
      "metadata": {
        "colab": {
          "base_uri": "https://localhost:8080/",
          "height": 220
        },
        "id": "dlxMOJ2iqcYV",
        "outputId": "8a9b0356-5a68-4786-d17a-12717eefa843"
      },
      "source": [
        "plt.subplot(121)\n",
        "plt.imshow(mask)\n",
        "plt.subplot(122)\n",
        "plt.imshow(mask2)"
      ],
      "execution_count": null,
      "outputs": [
        {
          "output_type": "execute_result",
          "data": {
            "text/plain": [
              "<matplotlib.image.AxesImage at 0x7f783fedaf60>"
            ]
          },
          "metadata": {
            "tags": []
          },
          "execution_count": 28
        },
        {
          "output_type": "display_data",
          "data": {
            "image/png": "[encoded data removed]",
            "text/plain": [
              "<Figure size 432x288 with 2 Axes>"
            ]
          },
          "metadata": {
            "tags": [],
            "needs_background": "light"
          }
        }
      ]
    },
    {
      "cell_type": "code",
      "metadata": {
        "id": "FKZUyxi0rIHA"
      },
      "source": [
        ""
      ],
      "execution_count": null,
      "outputs": []
    }
  ]
}